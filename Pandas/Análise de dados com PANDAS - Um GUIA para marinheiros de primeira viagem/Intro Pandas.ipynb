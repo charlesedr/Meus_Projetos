{
 "cells": [
  {
   "cell_type": "markdown",
   "id": "11303d3f-a58d-4963-a42b-069898f0d3ca",
   "metadata": {},
   "source": [
    "# Guia Pandas para Iniciantes"
   ]
  },
  {
   "cell_type": "markdown",
   "id": "3567d9e7-8538-4a8c-a98f-3cb5d1a95301",
   "metadata": {},
   "source": [
    "## Instalação da biblioteca"
   ]
  },
  {
   "cell_type": "code",
   "execution_count": null,
   "id": "889f378e-f242-4dcd-a0b3-d90342188286",
   "metadata": {},
   "outputs": [],
   "source": [
    "!pip install pandas openpyxl"
   ]
  },
  {
   "cell_type": "markdown",
   "id": "a179d91f-d894-4fee-8ea7-793441e98291",
   "metadata": {},
   "source": [
    "## Importando a biblioteca"
   ]
  },
  {
   "cell_type": "code",
   "execution_count": 2,
   "id": "e91e980f-7455-4f00-b535-499c57fb6e5f",
   "metadata": {},
   "outputs": [],
   "source": [
    "import pandas as pd"
   ]
  },
  {
   "cell_type": "markdown",
   "id": "91ab697a-5b6b-4a5c-ac22-6dee0ecaa324",
   "metadata": {},
   "source": [
    "## Lendo fontes de dados\n",
    "\n",
    "- Métodos `read_excel()`, `read_csv()`, `read_json()`"
   ]
  },
  {
   "cell_type": "code",
   "execution_count": 6,
   "id": "19f64227-fb94-43be-875f-c9351a0b9a55",
   "metadata": {},
   "outputs": [],
   "source": [
    "df = pd.read_excel(\"dados.xlsx\")"
   ]
  },
  {
   "cell_type": "markdown",
   "id": "8f3dfd61",
   "metadata": {},
   "source": [
    "* **Obs_1:** se tivesse mais que uma \"ABA\" pode usar o comando \"sheet_name\" que ficaria assim: `df = pd.read_excel(\"dados.xlsx\", sheet_name=\"nome da sheet\")`\n",
    "\n",
    "* **Obs_2:** para arquivos CSV geralemente é preciso identificar qual o seprador e nesse caso usa-se o `sep` para mostrar que o separador é \"ponto e virgula\": `df = pd.read_csv(\"dados.csv\", sep=\";\")`"
   ]
  },
  {
   "cell_type": "code",
   "execution_count": 7,
   "id": "1dd43c56-b78d-41b4-914d-693d9506051a",
   "metadata": {},
   "outputs": [
    {
     "data": {
      "text/plain": [
       "pandas.core.frame.DataFrame"
      ]
     },
     "execution_count": 7,
     "metadata": {},
     "output_type": "execute_result"
    }
   ],
   "source": [
    "# identificando o tipo de dados da DF\n",
    "type(df)"
   ]
  },
  {
   "cell_type": "markdown",
   "id": "fe7641a1-ab9c-4211-9852-1b933ca2f47a",
   "metadata": {},
   "source": [
    "## Visualizando as linhas"
   ]
  },
  {
   "cell_type": "code",
   "execution_count": 8,
   "id": "499cee4d-ab72-49c8-a51a-c6c023be88d6",
   "metadata": {},
   "outputs": [
    {
     "data": {
      "text/html": [
       "<div>\n",
       "<style scoped>\n",
       "    .dataframe tbody tr th:only-of-type {\n",
       "        vertical-align: middle;\n",
       "    }\n",
       "\n",
       "    .dataframe tbody tr th {\n",
       "        vertical-align: top;\n",
       "    }\n",
       "\n",
       "    .dataframe thead th {\n",
       "        text-align: right;\n",
       "    }\n",
       "</style>\n",
       "<table border=\"1\" class=\"dataframe\">\n",
       "  <thead>\n",
       "    <tr style=\"text-align: right;\">\n",
       "      <th></th>\n",
       "      <th>data_venda</th>\n",
       "      <th>produto</th>\n",
       "      <th>vendedor</th>\n",
       "      <th>valor_unitario</th>\n",
       "      <th>quantidade</th>\n",
       "    </tr>\n",
       "  </thead>\n",
       "  <tbody>\n",
       "    <tr>\n",
       "      <th>0</th>\n",
       "      <td>2020-10-19</td>\n",
       "      <td>Smartphone</td>\n",
       "      <td>José Maria</td>\n",
       "      <td>1500</td>\n",
       "      <td>1</td>\n",
       "    </tr>\n",
       "    <tr>\n",
       "      <th>1</th>\n",
       "      <td>2020-11-16</td>\n",
       "      <td>Smartphone</td>\n",
       "      <td>José Maria</td>\n",
       "      <td>1500</td>\n",
       "      <td>2</td>\n",
       "    </tr>\n",
       "    <tr>\n",
       "      <th>2</th>\n",
       "      <td>2020-02-20</td>\n",
       "      <td>Tablet</td>\n",
       "      <td>Jorge Mateus</td>\n",
       "      <td>1000</td>\n",
       "      <td>2</td>\n",
       "    </tr>\n",
       "    <tr>\n",
       "      <th>3</th>\n",
       "      <td>2020-06-03</td>\n",
       "      <td>Tablet</td>\n",
       "      <td>Jorge Mateus</td>\n",
       "      <td>1000</td>\n",
       "      <td>3</td>\n",
       "    </tr>\n",
       "    <tr>\n",
       "      <th>4</th>\n",
       "      <td>2020-02-01</td>\n",
       "      <td>Televisão</td>\n",
       "      <td>Jorge Mateus</td>\n",
       "      <td>3500</td>\n",
       "      <td>3</td>\n",
       "    </tr>\n",
       "  </tbody>\n",
       "</table>\n",
       "</div>"
      ],
      "text/plain": [
       "  data_venda     produto      vendedor  valor_unitario  quantidade\n",
       "0 2020-10-19  Smartphone    José Maria            1500           1\n",
       "1 2020-11-16  Smartphone    José Maria            1500           2\n",
       "2 2020-02-20      Tablet  Jorge Mateus            1000           2\n",
       "3 2020-06-03      Tablet  Jorge Mateus            1000           3\n",
       "4 2020-02-01   Televisão  Jorge Mateus            3500           3"
      ]
     },
     "execution_count": 8,
     "metadata": {},
     "output_type": "execute_result"
    }
   ],
   "source": [
    "# visualizando as primeiras linhas\n",
    "df.head()"
   ]
  },
  {
   "cell_type": "markdown",
   "id": "dfc226af",
   "metadata": {},
   "source": [
    "* **Obs**: se eu quiser identificar mais ou menos linhas que o padrao é só incluir dentro dos parenteses a qtd de linhas como um parametro. \n",
    "* **Exemplo**: `df.head(10)`"
   ]
  },
  {
   "cell_type": "code",
   "execution_count": 9,
   "id": "693b5f54-cfba-48e3-befd-444624b8a103",
   "metadata": {},
   "outputs": [
    {
     "data": {
      "text/html": [
       "<div>\n",
       "<style scoped>\n",
       "    .dataframe tbody tr th:only-of-type {\n",
       "        vertical-align: middle;\n",
       "    }\n",
       "\n",
       "    .dataframe tbody tr th {\n",
       "        vertical-align: top;\n",
       "    }\n",
       "\n",
       "    .dataframe thead th {\n",
       "        text-align: right;\n",
       "    }\n",
       "</style>\n",
       "<table border=\"1\" class=\"dataframe\">\n",
       "  <thead>\n",
       "    <tr style=\"text-align: right;\">\n",
       "      <th></th>\n",
       "      <th>data_venda</th>\n",
       "      <th>produto</th>\n",
       "      <th>vendedor</th>\n",
       "      <th>valor_unitario</th>\n",
       "      <th>quantidade</th>\n",
       "    </tr>\n",
       "  </thead>\n",
       "  <tbody>\n",
       "    <tr>\n",
       "      <th>28</th>\n",
       "      <td>2020-12-22</td>\n",
       "      <td>Colchão</td>\n",
       "      <td>José Maria</td>\n",
       "      <td>310</td>\n",
       "      <td>2</td>\n",
       "    </tr>\n",
       "    <tr>\n",
       "      <th>29</th>\n",
       "      <td>2020-04-13</td>\n",
       "      <td>Colchão</td>\n",
       "      <td>Jorge Mateus</td>\n",
       "      <td>310</td>\n",
       "      <td>3</td>\n",
       "    </tr>\n",
       "    <tr>\n",
       "      <th>30</th>\n",
       "      <td>2020-09-10</td>\n",
       "      <td>Colchão</td>\n",
       "      <td>Jorge Mateus</td>\n",
       "      <td>310</td>\n",
       "      <td>3</td>\n",
       "    </tr>\n",
       "    <tr>\n",
       "      <th>31</th>\n",
       "      <td>2020-08-05</td>\n",
       "      <td>Impressora</td>\n",
       "      <td>José Maria</td>\n",
       "      <td>600</td>\n",
       "      <td>3</td>\n",
       "    </tr>\n",
       "    <tr>\n",
       "      <th>32</th>\n",
       "      <td>2020-01-27</td>\n",
       "      <td>Impressora</td>\n",
       "      <td>Jorge Mateus</td>\n",
       "      <td>600</td>\n",
       "      <td>3</td>\n",
       "    </tr>\n",
       "  </tbody>\n",
       "</table>\n",
       "</div>"
      ],
      "text/plain": [
       "   data_venda     produto      vendedor  valor_unitario  quantidade\n",
       "28 2020-12-22     Colchão    José Maria             310           2\n",
       "29 2020-04-13     Colchão  Jorge Mateus             310           3\n",
       "30 2020-09-10     Colchão  Jorge Mateus             310           3\n",
       "31 2020-08-05  Impressora    José Maria             600           3\n",
       "32 2020-01-27  Impressora  Jorge Mateus             600           3"
      ]
     },
     "execution_count": 9,
     "metadata": {},
     "output_type": "execute_result"
    }
   ],
   "source": [
    "# visualizando as ultimas linhas\n",
    "df.tail()"
   ]
  },
  {
   "cell_type": "markdown",
   "id": "c40a0537",
   "metadata": {},
   "source": []
  },
  {
   "cell_type": "code",
   "execution_count": null,
   "id": "ee3be637",
   "metadata": {},
   "outputs": [],
   "source": []
  },
  {
   "cell_type": "markdown",
   "id": "0d3a0305-c02d-4bed-a2a5-c21d71e12a81",
   "metadata": {},
   "source": [
    "## DataFrame & Series\n",
    "\n",
    "- `Series`: é uma **coluna** de dados. Pode contar diferentes tipos de dados, mas eles não podem se misturar dentro da mesma coluna.\n",
    "- `DataFrame`: é uma **tabela** de dados. Conjunto de `Series`."
   ]
  },
  {
   "cell_type": "markdown",
   "id": "5f6b9ba1-c672-427b-838e-d511bc25ddd3",
   "metadata": {},
   "source": [
    "## Listando as colunas\n",
    "\n",
    "- Propriedade `columns`"
   ]
  },
  {
   "cell_type": "code",
   "execution_count": 10,
   "id": "3f1ddc9b-5830-4fd9-968a-6e44d4bdb32b",
   "metadata": {},
   "outputs": [
    {
     "data": {
      "text/plain": [
       "Index(['data_venda', 'produto', 'vendedor', 'valor_unitario', 'quantidade'], dtype='object')"
      ]
     },
     "execution_count": 10,
     "metadata": {},
     "output_type": "execute_result"
    }
   ],
   "source": [
    "# identificando as colunas do Dataframe\n",
    "df.columns"
   ]
  },
  {
   "cell_type": "code",
   "execution_count": null,
   "id": "40879788-d947-470a-8b5e-954a09a7361e",
   "metadata": {},
   "outputs": [
    {
     "name": "stdout",
     "output_type": "stream",
     "text": [
      "data_venda\n",
      "produto\n",
      "vendedor\n",
      "valor_unitario\n",
      "quantidade\n"
     ]
    }
   ],
   "source": [
    "# iterando sobre cada coluna (para aparecer um abaixo do outro) \n",
    "for coluna in df.columns:\n",
    "    print(coluna)"
   ]
  },
  {
   "cell_type": "markdown",
   "id": "2f4f6295",
   "metadata": {},
   "source": [
    "* **Obs**: Poderia fazer isso para varias manipulações de dados, como: modificar um nome, retirar espaços em branco, etc."
   ]
  },
  {
   "cell_type": "markdown",
   "id": "71a5f9dd-dfeb-4de1-897d-46a2f7632fa4",
   "metadata": {},
   "source": [
    "## Acessando colunas"
   ]
  },
  {
   "cell_type": "markdown",
   "id": "0eeb498e",
   "metadata": {},
   "source": [
    "* Existem duas formas de acessar uma coluna, porém em uma delas "
   ]
  },
  {
   "cell_type": "code",
   "execution_count": null,
   "id": "9249b033-2df2-4e18-9e0e-137e73db6b84",
   "metadata": {},
   "outputs": [],
   "source": []
  },
  {
   "cell_type": "markdown",
   "id": "444716b3-a972-40e0-b561-dd5b699eb062",
   "metadata": {},
   "source": [
    "## Métodos `loc` & `iloc`\n",
    "\n",
    "- `loc`: acessa pelo rótulo (label) - nome da coluna ou nome do índice\n",
    "- `iloc`: acesso pelo índice da coluna ou linha"
   ]
  },
  {
   "cell_type": "code",
   "execution_count": null,
   "id": "a67dc1b8-0bd1-44ab-a64c-c2dc63aeaaf4",
   "metadata": {},
   "outputs": [],
   "source": []
  },
  {
   "cell_type": "code",
   "execution_count": null,
   "id": "12731122-b4ac-4728-92b5-1cffc5e63f0c",
   "metadata": {},
   "outputs": [],
   "source": []
  },
  {
   "cell_type": "markdown",
   "id": "630598eb-dab5-42c8-acbe-9b90706e65d9",
   "metadata": {},
   "source": [
    "## Índice\n",
    "\n",
    "- Propriedade `index`\n",
    "- Método `set_index()`"
   ]
  },
  {
   "cell_type": "code",
   "execution_count": null,
   "id": "eb1de9b0-1bb4-42ef-af66-e5322178432f",
   "metadata": {},
   "outputs": [],
   "source": []
  },
  {
   "cell_type": "code",
   "execution_count": null,
   "id": "8283c19a-51c7-46c5-9dc4-0494d736f52c",
   "metadata": {},
   "outputs": [],
   "source": []
  },
  {
   "cell_type": "code",
   "execution_count": null,
   "id": "35cb1f5a-03a7-4a35-ab1f-7585d8e26875",
   "metadata": {},
   "outputs": [],
   "source": []
  },
  {
   "cell_type": "markdown",
   "id": "e9875ab2-af5d-4e16-a4b4-983c0e1c709e",
   "metadata": {},
   "source": [
    "## Análise Exploratória\n",
    "\n",
    "- `shape`\n",
    "- `info()`: mostra informações sobre as colunas\n",
    "- `describe()`: mostra algumas estatísticas\n"
   ]
  },
  {
   "cell_type": "code",
   "execution_count": null,
   "id": "483075e8-2775-4c62-86f2-45774ca0f7be",
   "metadata": {},
   "outputs": [],
   "source": []
  },
  {
   "cell_type": "code",
   "execution_count": null,
   "id": "038075b4-2b62-4610-8dbc-ac56bb38f45e",
   "metadata": {},
   "outputs": [],
   "source": []
  },
  {
   "cell_type": "markdown",
   "id": "1ebd36b7-ae9d-4be4-93d6-aa4015a55dff",
   "metadata": {},
   "source": [
    "## Inserindo e excluindo colunas"
   ]
  },
  {
   "cell_type": "code",
   "execution_count": null,
   "id": "7d7a98a2-b453-43e5-a939-86d8f84dff7e",
   "metadata": {},
   "outputs": [],
   "source": []
  },
  {
   "cell_type": "code",
   "execution_count": null,
   "id": "78a5b051-4c75-4364-a716-2d0e4fffc790",
   "metadata": {},
   "outputs": [],
   "source": []
  },
  {
   "cell_type": "code",
   "execution_count": null,
   "id": "c7e171eb-a4b5-4997-9a8e-c222c9a208ba",
   "metadata": {},
   "outputs": [],
   "source": []
  },
  {
   "cell_type": "code",
   "execution_count": null,
   "id": "aa504af6-09f1-40e7-a6f9-15348eaa2e66",
   "metadata": {},
   "outputs": [],
   "source": []
  },
  {
   "cell_type": "markdown",
   "id": "a88ad431-384f-44fe-95d0-a18e1f5616da",
   "metadata": {},
   "source": [
    "## Contagem de valores distintos\n",
    "\n",
    "- Métodos `value_counts()`, `unique()`, `nunique()`"
   ]
  },
  {
   "cell_type": "code",
   "execution_count": null,
   "id": "7a7ac89b-fca6-4550-8b68-cd25a1ec32b2",
   "metadata": {},
   "outputs": [],
   "source": []
  },
  {
   "cell_type": "code",
   "execution_count": null,
   "id": "d072affd-54e3-4fa7-aeff-8ff9765f4d04",
   "metadata": {},
   "outputs": [],
   "source": []
  },
  {
   "cell_type": "code",
   "execution_count": null,
   "id": "931aba5d-2e02-417f-b8c7-6579cb918e52",
   "metadata": {},
   "outputs": [],
   "source": []
  },
  {
   "cell_type": "markdown",
   "id": "9b28e15e-25d0-4b74-bf1c-6ad2f7952af7",
   "metadata": {},
   "source": [
    "## Agrupando dados\n",
    "\n",
    "- Método `groupby()` e `pivot_table()`"
   ]
  },
  {
   "cell_type": "code",
   "execution_count": null,
   "id": "23623169-d927-40b4-adae-d35716b86d55",
   "metadata": {
    "scrolled": true
   },
   "outputs": [],
   "source": []
  },
  {
   "cell_type": "code",
   "execution_count": null,
   "id": "d4533da1-ea68-4cd7-880d-b5401ceb8ca2",
   "metadata": {},
   "outputs": [],
   "source": []
  },
  {
   "cell_type": "markdown",
   "id": "e3b13f83-569c-44c7-aede-d6aa8ee0ca33",
   "metadata": {},
   "source": [
    "## Filtrando linhas\n",
    "\n",
    "- Método `query()`"
   ]
  },
  {
   "cell_type": "code",
   "execution_count": null,
   "id": "744f065c-f7c3-41f2-af4d-e1725e9fb741",
   "metadata": {},
   "outputs": [],
   "source": []
  },
  {
   "cell_type": "code",
   "execution_count": null,
   "id": "39d52ca5-3ad2-4cc8-877a-2a14cd196686",
   "metadata": {},
   "outputs": [],
   "source": []
  },
  {
   "cell_type": "markdown",
   "id": "68881b7d-e3c7-4996-ac40-7ae6f022e493",
   "metadata": {},
   "source": [
    "## Filtrando linhas por um índice Datetime"
   ]
  },
  {
   "cell_type": "code",
   "execution_count": null,
   "id": "e2c3220f-a7a8-4c8e-bf3b-6c58c96558f6",
   "metadata": {},
   "outputs": [],
   "source": []
  },
  {
   "cell_type": "code",
   "execution_count": null,
   "id": "fb0b4c1a-6aff-4b2a-b5a6-235071f96ef6",
   "metadata": {},
   "outputs": [],
   "source": []
  },
  {
   "cell_type": "markdown",
   "id": "ede65d82-2048-4c4d-a0a8-c62060bc4a27",
   "metadata": {},
   "source": [
    "## Exportando o DataFrame\n",
    "\n",
    "- Métodos `to_csv()`e `to_excel()`"
   ]
  },
  {
   "cell_type": "code",
   "execution_count": null,
   "id": "b47cf6a9-65be-421f-be14-9d03ad82752b",
   "metadata": {},
   "outputs": [],
   "source": []
  },
  {
   "cell_type": "code",
   "execution_count": null,
   "id": "bd362244-4f45-4017-95cb-1761307716de",
   "metadata": {},
   "outputs": [],
   "source": []
  }
 ],
 "metadata": {
  "kernelspec": {
   "display_name": "venv",
   "language": "python",
   "name": "python3"
  },
  "language_info": {
   "codemirror_mode": {
    "name": "ipython",
    "version": 3
   },
   "file_extension": ".py",
   "mimetype": "text/x-python",
   "name": "python",
   "nbconvert_exporter": "python",
   "pygments_lexer": "ipython3",
   "version": "3.13.0"
  }
 },
 "nbformat": 4,
 "nbformat_minor": 5
}
