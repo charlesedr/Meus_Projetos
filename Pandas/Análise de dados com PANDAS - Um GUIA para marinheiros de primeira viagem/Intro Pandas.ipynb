{
 "cells": [
  {
   "cell_type": "markdown",
   "id": "11303d3f-a58d-4963-a42b-069898f0d3ca",
   "metadata": {},
   "source": [
    "# Guia Pandas para Iniciantes"
   ]
  },
  {
   "cell_type": "markdown",
   "id": "3567d9e7-8538-4a8c-a98f-3cb5d1a95301",
   "metadata": {},
   "source": [
    "## Instalação da biblioteca"
   ]
  },
  {
   "cell_type": "code",
   "execution_count": null,
   "id": "889f378e-f242-4dcd-a0b3-d90342188286",
   "metadata": {},
   "outputs": [],
   "source": [
    "!pip install pandas openpyxl"
   ]
  },
  {
   "cell_type": "markdown",
   "id": "a179d91f-d894-4fee-8ea7-793441e98291",
   "metadata": {},
   "source": [
    "## Importando a biblioteca"
   ]
  },
  {
   "cell_type": "code",
   "execution_count": null,
   "id": "e91e980f-7455-4f00-b535-499c57fb6e5f",
   "metadata": {},
   "outputs": [],
   "source": []
  },
  {
   "cell_type": "markdown",
   "id": "91ab697a-5b6b-4a5c-ac22-6dee0ecaa324",
   "metadata": {},
   "source": [
    "## Lendo fontes de dados\n",
    "\n",
    "- Métodos `read_excel()`, `read_csv()`, `read_json()`"
   ]
  },
  {
   "cell_type": "code",
   "execution_count": null,
   "id": "19f64227-fb94-43be-875f-c9351a0b9a55",
   "metadata": {},
   "outputs": [],
   "source": []
  },
  {
   "cell_type": "code",
   "execution_count": null,
   "id": "1dd43c56-b78d-41b4-914d-693d9506051a",
   "metadata": {},
   "outputs": [],
   "source": []
  },
  {
   "cell_type": "markdown",
   "id": "fe7641a1-ab9c-4211-9852-1b933ca2f47a",
   "metadata": {},
   "source": [
    "## Visualizando as linhas"
   ]
  },
  {
   "cell_type": "code",
   "execution_count": null,
   "id": "499cee4d-ab72-49c8-a51a-c6c023be88d6",
   "metadata": {},
   "outputs": [],
   "source": []
  },
  {
   "cell_type": "code",
   "execution_count": null,
   "id": "693b5f54-cfba-48e3-befd-444624b8a103",
   "metadata": {},
   "outputs": [],
   "source": []
  },
  {
   "cell_type": "markdown",
   "id": "0d3a0305-c02d-4bed-a2a5-c21d71e12a81",
   "metadata": {},
   "source": [
    "## DataFrame & Series\n",
    "\n",
    "- `Series`: é uma **coluna** de dados. Pode contar diferentes tipos de dados, mas eles não podem se misturar dentro da mesma coluna.\n",
    "- `DataFrame`: é uma **tabela** de dados. Conjunto de `Series`."
   ]
  },
  {
   "cell_type": "markdown",
   "id": "5f6b9ba1-c672-427b-838e-d511bc25ddd3",
   "metadata": {},
   "source": [
    "## Listando as colunas\n",
    "\n",
    "- Propriedade `columns`"
   ]
  },
  {
   "cell_type": "code",
   "execution_count": null,
   "id": "3f1ddc9b-5830-4fd9-968a-6e44d4bdb32b",
   "metadata": {},
   "outputs": [],
   "source": []
  },
  {
   "cell_type": "code",
   "execution_count": null,
   "id": "40879788-d947-470a-8b5e-954a09a7361e",
   "metadata": {},
   "outputs": [],
   "source": []
  },
  {
   "cell_type": "markdown",
   "id": "71a5f9dd-dfeb-4de1-897d-46a2f7632fa4",
   "metadata": {},
   "source": [
    "## Acessando colunas"
   ]
  },
  {
   "cell_type": "code",
   "execution_count": null,
   "id": "9249b033-2df2-4e18-9e0e-137e73db6b84",
   "metadata": {},
   "outputs": [],
   "source": []
  },
  {
   "cell_type": "markdown",
   "id": "444716b3-a972-40e0-b561-dd5b699eb062",
   "metadata": {},
   "source": [
    "## Métodos `loc` & `iloc`\n",
    "\n",
    "- `loc`: acessa pelo rótulo (label) - nome da coluna ou nome do índice\n",
    "- `iloc`: acesso pelo índice da coluna ou linha"
   ]
  },
  {
   "cell_type": "code",
   "execution_count": null,
   "id": "a67dc1b8-0bd1-44ab-a64c-c2dc63aeaaf4",
   "metadata": {},
   "outputs": [],
   "source": []
  },
  {
   "cell_type": "code",
   "execution_count": null,
   "id": "12731122-b4ac-4728-92b5-1cffc5e63f0c",
   "metadata": {},
   "outputs": [],
   "source": []
  },
  {
   "cell_type": "markdown",
   "id": "630598eb-dab5-42c8-acbe-9b90706e65d9",
   "metadata": {},
   "source": [
    "## Índice\n",
    "\n",
    "- Propriedade `index`\n",
    "- Método `set_index()`"
   ]
  },
  {
   "cell_type": "code",
   "execution_count": null,
   "id": "eb1de9b0-1bb4-42ef-af66-e5322178432f",
   "metadata": {},
   "outputs": [],
   "source": []
  },
  {
   "cell_type": "code",
   "execution_count": null,
   "id": "8283c19a-51c7-46c5-9dc4-0494d736f52c",
   "metadata": {},
   "outputs": [],
   "source": []
  },
  {
   "cell_type": "code",
   "execution_count": null,
   "id": "35cb1f5a-03a7-4a35-ab1f-7585d8e26875",
   "metadata": {},
   "outputs": [],
   "source": []
  },
  {
   "cell_type": "markdown",
   "id": "e9875ab2-af5d-4e16-a4b4-983c0e1c709e",
   "metadata": {},
   "source": [
    "## Análise Exploratória\n",
    "\n",
    "- `shape`\n",
    "- `info()`: mostra informações sobre as colunas\n",
    "- `describe()`: mostra algumas estatísticas\n"
   ]
  },
  {
   "cell_type": "code",
   "execution_count": null,
   "id": "483075e8-2775-4c62-86f2-45774ca0f7be",
   "metadata": {},
   "outputs": [],
   "source": []
  },
  {
   "cell_type": "code",
   "execution_count": null,
   "id": "038075b4-2b62-4610-8dbc-ac56bb38f45e",
   "metadata": {},
   "outputs": [],
   "source": []
  },
  {
   "cell_type": "markdown",
   "id": "1ebd36b7-ae9d-4be4-93d6-aa4015a55dff",
   "metadata": {},
   "source": [
    "## Inserindo e excluindo colunas"
   ]
  },
  {
   "cell_type": "code",
   "execution_count": null,
   "id": "7d7a98a2-b453-43e5-a939-86d8f84dff7e",
   "metadata": {},
   "outputs": [],
   "source": []
  },
  {
   "cell_type": "code",
   "execution_count": null,
   "id": "78a5b051-4c75-4364-a716-2d0e4fffc790",
   "metadata": {},
   "outputs": [],
   "source": []
  },
  {
   "cell_type": "code",
   "execution_count": null,
   "id": "c7e171eb-a4b5-4997-9a8e-c222c9a208ba",
   "metadata": {},
   "outputs": [],
   "source": []
  },
  {
   "cell_type": "code",
   "execution_count": null,
   "id": "aa504af6-09f1-40e7-a6f9-15348eaa2e66",
   "metadata": {},
   "outputs": [],
   "source": []
  },
  {
   "cell_type": "markdown",
   "id": "a88ad431-384f-44fe-95d0-a18e1f5616da",
   "metadata": {},
   "source": [
    "## Contagem de valores distintos\n",
    "\n",
    "- Métodos `value_counts()`, `unique()`, `nunique()`"
   ]
  },
  {
   "cell_type": "code",
   "execution_count": null,
   "id": "7a7ac89b-fca6-4550-8b68-cd25a1ec32b2",
   "metadata": {},
   "outputs": [],
   "source": []
  },
  {
   "cell_type": "code",
   "execution_count": null,
   "id": "d072affd-54e3-4fa7-aeff-8ff9765f4d04",
   "metadata": {},
   "outputs": [],
   "source": []
  },
  {
   "cell_type": "code",
   "execution_count": null,
   "id": "931aba5d-2e02-417f-b8c7-6579cb918e52",
   "metadata": {},
   "outputs": [],
   "source": []
  },
  {
   "cell_type": "markdown",
   "id": "9b28e15e-25d0-4b74-bf1c-6ad2f7952af7",
   "metadata": {},
   "source": [
    "## Agrupando dados\n",
    "\n",
    "- Método `groupby()` e `pivot_table()`"
   ]
  },
  {
   "cell_type": "code",
   "execution_count": null,
   "id": "23623169-d927-40b4-adae-d35716b86d55",
   "metadata": {
    "scrolled": true
   },
   "outputs": [],
   "source": []
  },
  {
   "cell_type": "code",
   "execution_count": null,
   "id": "d4533da1-ea68-4cd7-880d-b5401ceb8ca2",
   "metadata": {},
   "outputs": [],
   "source": []
  },
  {
   "cell_type": "markdown",
   "id": "e3b13f83-569c-44c7-aede-d6aa8ee0ca33",
   "metadata": {},
   "source": [
    "## Filtrando linhas\n",
    "\n",
    "- Método `query()`"
   ]
  },
  {
   "cell_type": "code",
   "execution_count": null,
   "id": "744f065c-f7c3-41f2-af4d-e1725e9fb741",
   "metadata": {},
   "outputs": [],
   "source": []
  },
  {
   "cell_type": "code",
   "execution_count": null,
   "id": "39d52ca5-3ad2-4cc8-877a-2a14cd196686",
   "metadata": {},
   "outputs": [],
   "source": []
  },
  {
   "cell_type": "markdown",
   "id": "68881b7d-e3c7-4996-ac40-7ae6f022e493",
   "metadata": {},
   "source": [
    "## Filtrando linhas por um índice Datetime"
   ]
  },
  {
   "cell_type": "code",
   "execution_count": null,
   "id": "e2c3220f-a7a8-4c8e-bf3b-6c58c96558f6",
   "metadata": {},
   "outputs": [],
   "source": []
  },
  {
   "cell_type": "code",
   "execution_count": null,
   "id": "fb0b4c1a-6aff-4b2a-b5a6-235071f96ef6",
   "metadata": {},
   "outputs": [],
   "source": []
  },
  {
   "cell_type": "markdown",
   "id": "ede65d82-2048-4c4d-a0a8-c62060bc4a27",
   "metadata": {},
   "source": [
    "## Exportando o DataFrame\n",
    "\n",
    "- Métodos `to_csv()`e `to_excel()`"
   ]
  },
  {
   "cell_type": "code",
   "execution_count": null,
   "id": "b47cf6a9-65be-421f-be14-9d03ad82752b",
   "metadata": {},
   "outputs": [],
   "source": []
  },
  {
   "cell_type": "code",
   "execution_count": null,
   "id": "bd362244-4f45-4017-95cb-1761307716de",
   "metadata": {},
   "outputs": [],
   "source": []
  }
 ],
 "metadata": {
  "kernelspec": {
   "display_name": "Python 3 (ipykernel)",
   "language": "python",
   "name": "python3"
  },
  "language_info": {
   "codemirror_mode": {
    "name": "ipython",
    "version": 3
   },
   "file_extension": ".py",
   "mimetype": "text/x-python",
   "name": "python",
   "nbconvert_exporter": "python",
   "pygments_lexer": "ipython3",
   "version": "3.12.4"
  }
 },
 "nbformat": 4,
 "nbformat_minor": 5
}
