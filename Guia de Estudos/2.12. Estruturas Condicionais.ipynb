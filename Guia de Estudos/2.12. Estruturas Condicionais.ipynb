{
 "cells": [
  {
   "cell_type": "markdown",
   "metadata": {},
   "source": [
    "## 2.12. Estruturas Condicionais"
   ]
  },
  {
   "cell_type": "markdown",
   "metadata": {},
   "source": [
    "As estruturas condicionais ou comandos condicionais permitem alterar a sequência de execução de um programa dependendo do resultado de uma expressão lógica\n",
    "\n",
    "<img src=\"https://prog-geo.github.io/_images/fluxograma-estrutura-condicional.png\" width =\"300\" height=250 >\n",
    "\n",
    "Em Python, usamos as palavras reservadas if, else e elif para estruturar blocos de comandos (ou instruções) que organizam o fluxo de nossos programas."
   ]
  },
  {
   "cell_type": "markdown",
   "metadata": {},
   "source": [
    "### 2.12.1. Estrutura Condicional Simples"
   ]
  },
  {
   "cell_type": "markdown",
   "metadata": {},
   "source": [
    "Podemos estruturar um bloco utilizando um único comando if, como mostrado no Trecho de Código 2.7. Neste exemplo, o comando da linha 04 somente será executado se um valor de NDVI maior que 0.3 e menor que 0.8 for lido na linha 01. O teste condicional associado ao comando if, na linha 03, tem o papel de verificar se a expressão é verdadeira ou falsa. No caso de ela ser verdadeira, o fluxo do programa, na linha 03, é desviado para dentro do bloco de comandos definido pelo comando if, que nesse caso contém apenas o comando da linha 04, e depois o fluxo continua sua execução a partir da primeira linha fora do comando if (nesse caso a linha 06). Se a expessão condicional da linha 03 for avaliada como falsa, o fluxo é desviado diretamente para a linha 06, que é a primeira linha fora da estrutura do comando if. A Figura 2.13 ilustra o fluxo de execução desse programa."
   ]
  },
  {
   "cell_type": "markdown",
   "metadata": {},
   "source": [
    "<img src=\"https://prog-geo.github.io/_images/if-single.png\" widht = \"300\" height=250>"
   ]
  },
  {
   "cell_type": "code",
   "execution_count": 1,
   "metadata": {},
   "outputs": [
    {
     "name": "stdout",
     "output_type": "stream",
     "text": [
      "Vegetação densa!\n",
      "NDVI: 0.5\n"
     ]
    }
   ],
   "source": [
    "# Exemplo de uso de um comando condicional simples.\n",
    "ndvi = 0.5  # Exemplo de valor para NDVI\n",
    "\n",
    "if 0.3 < ndvi < 0.8:\n",
    "    print(\"Vegetação densa!\")\n",
    "\n",
    "print(\"NDVI:\", ndvi)"
   ]
  },
  {
   "cell_type": "markdown",
   "metadata": {},
   "source": [
    "### 2.12.2. Estrutura Condicional Composta"
   ]
  },
  {
   "cell_type": "markdown",
   "metadata": {},
   "source": [
    "Neste caso, além da sequência de comandos a ser executada caso a expressão lógica seja avaliada como verdadeira, temos também um conjunto de instruções que pode ser executado caso ela seja avaliada como falsa. O Trecho de Código 2.8 inclui a palavra-chave else, definindo um bloco de comandos que será executado caso a expressão lógica da linha 03 seja avaliada como falsa. A Figura 2.14 ilustra o fluxo de execução desse programa."
   ]
  },
  {
   "cell_type": "markdown",
   "metadata": {},
   "source": [
    "<img src=\"https://prog-geo.github.io/_images/if-compound.png\" wight=\"300\" height=250>"
   ]
  },
  {
   "cell_type": "code",
   "execution_count": 3,
   "metadata": {},
   "outputs": [
    {
     "name": "stdout",
     "output_type": "stream",
     "text": [
      "pouca vegetação!\n",
      "NDVI: 0.2\n"
     ]
    }
   ],
   "source": [
    "# Exemplo de uso de um comando condicional composto.\n",
    "ndvi = 0.2 #float(input(\"NDVI: \"))\n",
    "\n",
    "if (ndvi > 0.3) and (ndvi < 0.8):\n",
    "    print(\"vegetação densa!\")\n",
    "else:\n",
    "    print(\"pouca vegetação!\")\n",
    "\n",
    "print(\"NDVI:\", ndvi)"
   ]
  },
  {
   "cell_type": "markdown",
   "metadata": {},
   "source": [
    "### 2.12.3. Comandos Condicionais Encadeados"
   ]
  },
  {
   "cell_type": "markdown",
   "metadata": {},
   "source": [
    "Podemos utilizar a palavra-chave \"elif\" para encadear uma estrutura condicional. O Trecho de Código 2.9 inclui a palavra-chave \"elif\" para definir um novo teste condicional caso o teste da linha 03 seja falso. Caso os testes das linhas 03 e 05 sejam falsos, o bloco delimitado pela instrução \"else\" será executado."
   ]
  },
  {
   "cell_type": "markdown",
   "metadata": {},
   "source": [
    "* As estruturas condicionais podem ser aninhadas, isto é, podem ser instruções dentro das cláusulas if, else e elif."
   ]
  },
  {
   "cell_type": "code",
   "execution_count": 4,
   "metadata": {},
   "outputs": [
    {
     "name": "stdout",
     "output_type": "stream",
     "text": [
      "vegetação densa!\n",
      "NDVI: 0.5\n"
     ]
    }
   ],
   "source": [
    "# Exemplo de uso de um comando condicional encadeado\n",
    "\n",
    "ndvi = 0.5 # float(input(\"NDVI: \"))\n",
    "\n",
    "if (ndvi < -1.0) or (ndvi > 1.0):\n",
    "    print(\"NDVI fora do intervalo!\")\n",
    "elif (ndvi > 0.3) and (ndvi < 0.8):\n",
    "    print(\"vegetação densa!\")\n",
    "else:\n",
    "    print(\"pouca vegetação!\")\n",
    "\n",
    "print(\"NDVI:\", ndvi)"
   ]
  },
  {
   "cell_type": "markdown",
   "metadata": {},
   "source": [
    "* A seção de código, ou bloco de comandos dentro das cláusulas if, else e elif podem conter diversas instruções."
   ]
  },
  {
   "cell_type": "markdown",
   "metadata": {},
   "source": [
    "## 2.12.4. Exemplo"
   ]
  },
  {
   "cell_type": "markdown",
   "metadata": {},
   "source": [
    "### Problema: Escreva um programa que pergunte ao usuário o valor de um ano qualquer e que o informe se o ano é ou não bissexto."
   ]
  },
  {
   "cell_type": "code",
   "execution_count": 5,
   "metadata": {},
   "outputs": [
    {
     "name": "stdout",
     "output_type": "stream",
     "text": [
      "É bissexto!\n",
      "Fim!\n"
     ]
    }
   ],
   "source": [
    "# Solucao\n",
    "\n",
    "ano = 2020 # int(input(\"Ano: \"))\n",
    "\n",
    "if ano % 400 == 0:\n",
    "    print(\"É bissexto!\")\n",
    "elif ano % 100 == 0:\n",
    "    print(\"Não é bissexto!\")\n",
    "elif ano % 4 == 0:\n",
    "    print(\"É bissexto!\")\n",
    "else:\n",
    "    print(\"Não é bissexto!\")\n",
    "\n",
    "print(\"Fim!\")"
   ]
  }
 ],
 "metadata": {
  "kernelspec": {
   "display_name": "venv",
   "language": "python",
   "name": "python3"
  },
  "language_info": {
   "codemirror_mode": {
    "name": "ipython",
    "version": 3
   },
   "file_extension": ".py",
   "mimetype": "text/x-python",
   "name": "python",
   "nbconvert_exporter": "python",
   "pygments_lexer": "ipython3",
   "version": "3.13.0"
  }
 },
 "nbformat": 4,
 "nbformat_minor": 2
}
