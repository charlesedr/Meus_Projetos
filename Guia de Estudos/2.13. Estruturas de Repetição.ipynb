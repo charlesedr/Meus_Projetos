{
 "cells": [
  {
   "cell_type": "markdown",
   "metadata": {},
   "source": [
    "## 2.13. Estruturas de Repetição"
   ]
  },
  {
   "cell_type": "markdown",
   "metadata": {},
   "source": [
    "**Em Python, temos dois tipos de laços: \"for\" e \"while\". Esta seção apresenta esses dois tipos de laços.**\n",
    "\n",
    "**Problema 1**: Escreva um programa para converter temperaturas da escala Fahrenheit para a escala Celsius. A coluna °F na Figura 2.15 - contém a lista de valores a serem convertidos para a escala Celsius.\n",
    "\n",
    "<img src=\"https://prog-geo.github.io/_images/tabela-temperaturas.png\" wight=\"300\" height=250>\n",
    "\n",
    "**Desafio**: Como implementar esse programa?\n",
    "\n",
    "* Muitas das computações que realizamos em um programa são naturalmente repetitivas.\n",
    "\n",
    "* Nas linguagens imperativas, encontramos estruturas específicas para essa finalidade, que são chamadas de comandos de repetição, ou estruturas de repetição, ou laços (loops).\n",
    "\n",
    "* Através desses comandos, podemos realizar uma computação até que uma certa condição seja satisfeita."
   ]
  },
  {
   "cell_type": "markdown",
   "metadata": {},
   "source": [
    "### 2.13.1. Exemplo: escrita repetitiva na tela"
   ]
  },
  {
   "cell_type": "markdown",
   "metadata": {},
   "source": [
    "* **Problema 2**: Crie um programa para escrever os números de 1 a 5."
   ]
  },
  {
   "cell_type": "code",
   "execution_count": 1,
   "metadata": {},
   "outputs": [
    {
     "name": "stdout",
     "output_type": "stream",
     "text": [
      "1\n",
      "2\n",
      "3\n",
      "4\n",
      "5\n"
     ]
    }
   ],
   "source": [
    "# Solucao\n",
    "print(1)\n",
    "print(2)\n",
    "print(3)\n",
    "print(4)\n",
    "print(5)"
   ]
  },
  {
   "cell_type": "markdown",
   "metadata": {},
   "source": [
    "* **Problema 3**: Crie um programa para escrever os números de 1 a 100."
   ]
  },
  {
   "cell_type": "code",
   "execution_count": 2,
   "metadata": {},
   "outputs": [
    {
     "name": "stdout",
     "output_type": "stream",
     "text": [
      "1\n",
      "2\n",
      "3\n",
      "4\n",
      "5\n",
      "6\n",
      "7\n",
      "8\n",
      "9\n",
      "10\n",
      "11\n",
      "12\n",
      "13\n",
      "14\n",
      "15\n",
      "16\n",
      "17\n",
      "18\n",
      "19\n",
      "20\n",
      "21\n",
      "22\n",
      "23\n",
      "24\n",
      "25\n",
      "26\n",
      "27\n",
      "28\n",
      "29\n",
      "30\n",
      "31\n",
      "32\n",
      "33\n",
      "34\n",
      "35\n",
      "36\n",
      "37\n",
      "38\n",
      "39\n",
      "40\n",
      "41\n",
      "42\n",
      "43\n",
      "44\n",
      "45\n",
      "46\n",
      "47\n",
      "48\n",
      "49\n",
      "50\n",
      "51\n",
      "52\n",
      "53\n",
      "54\n",
      "55\n",
      "56\n",
      "57\n",
      "58\n",
      "59\n",
      "60\n",
      "61\n",
      "62\n",
      "63\n",
      "64\n",
      "65\n",
      "66\n",
      "67\n",
      "68\n",
      "69\n",
      "70\n",
      "71\n",
      "72\n",
      "73\n",
      "74\n",
      "75\n",
      "76\n",
      "77\n",
      "78\n",
      "79\n",
      "80\n",
      "81\n",
      "82\n",
      "83\n",
      "84\n",
      "85\n",
      "86\n",
      "87\n",
      "88\n",
      "89\n",
      "90\n",
      "91\n",
      "92\n",
      "93\n",
      "94\n",
      "95\n",
      "96\n",
      "97\n",
      "98\n",
      "99\n",
      "100\n"
     ]
    }
   ],
   "source": [
    "# Solução: utilizar uma estrutura de repetição.\n",
    "for i in range(1, 101):\n",
    "    print(i)"
   ]
  },
  {
   "cell_type": "markdown",
   "metadata": {},
   "source": [
    "* O tipo range representa uma sequência imutável de números, sendo comumente empregado em laços do tipo for, onde temos que iterar um certo número de vezes.\n",
    "* Veja o que acontece quando construímos um objeto range identificado pela variável r"
   ]
  },
  {
   "cell_type": "code",
   "execution_count": 5,
   "metadata": {},
   "outputs": [
    {
     "data": {
      "text/plain": [
       "1"
      ]
     },
     "execution_count": 5,
     "metadata": {},
     "output_type": "execute_result"
    }
   ],
   "source": [
    "r = range(5)\n",
    "r.start\n",
    "r.stop\n",
    "r.step"
   ]
  },
  {
   "cell_type": "code",
   "execution_count": 6,
   "metadata": {},
   "outputs": [
    {
     "data": {
      "text/plain": [
       "[0, 1, 2, 3, 4]"
      ]
     },
     "execution_count": 6,
     "metadata": {},
     "output_type": "execute_result"
    }
   ],
   "source": [
    "list(r)"
   ]
  },
  {
   "cell_type": "markdown",
   "metadata": {},
   "source": [
    "* Um objeto do tipo range ocupa um espaço fixo de memória, independente do tamanho do intervalo definido por ele. Enquanto uma lista materializa de fato os elementos da sequência, o range apenas calcula itens à medida em que são necessários."
   ]
  },
  {
   "cell_type": "markdown",
   "metadata": {},
   "source": [
    "### 2.13.2. Laços do tipo **\"for\"**"
   ]
  },
  {
   "cell_type": "markdown",
   "metadata": {},
   "source": [
    "Esse tipo de laço é muito útil quando estamos lidando com **sequências** (como strings, tuplas e listas) ou **iteráveis**. A Figura 2.16 mostra como funciona esse tipo de laço. Repare que temos uma variável de controle, **\"v\"**, que é associada aos elementos de uma sequência/iterável. Toda vez que é possível associar a variável **\"v\"** a um novo elemento da sequência/iterável, o fluxo de controle do programa é desviado para as instruções do bloco de comandos destacado em verde. Quando não há mais possibilidade de associar a variável **\"v\"**  a um novo elemento da sequência/iterável, o controle é desviado para o conjunto de instruções do bloco destacado em amarelo.\n",
    "\n",
    "<img src = \"https://prog-geo.github.io/_images/laco-for.png\" wight=\"300\" height=250 >"
   ]
  },
  {
   "cell_type": "code",
   "execution_count": 10,
   "metadata": {},
   "outputs": [
    {
     "name": "stdout",
     "output_type": "stream",
     "text": [
      "Va em frente\n",
      "Volte\n"
     ]
    }
   ],
   "source": [
    "# A sintaxe básica deste comando é a seguinte:\n",
    "\n",
    "instrucao_1 = \"Va em frente\"\n",
    "instrucao_2 = \"Volte\"\n",
    "\n",
    "# Defina um iterável, por exemplo, uma lista\n",
    "iteravel = range(1)  # Isto irá iterar 5 vezes\n",
    "\n",
    "for variavel_it in iteravel:\n",
    "    print(instrucao_1)\n",
    "    print(instrucao_2)"
   ]
  },
  {
   "cell_type": "markdown",
   "metadata": {},
   "source": [
    "* **Problema 4**: Computando o somatório de 1 a 5 usando laço do tipo **\"for\"**:\n",
    "\n",
    "<img src=\"https://i.ytimg.com/vi/zygBC5kY6es/maxresdefault.jpg\" wight=\"300\" height=250> \n",
    "\n",
    "* 1+2+3+4+5 = 15"
   ]
  },
  {
   "cell_type": "code",
   "execution_count": null,
   "metadata": {},
   "outputs": [
    {
     "name": "stdout",
     "output_type": "stream",
     "text": [
      "soma: 15\n"
     ]
    }
   ],
   "source": [
    "# sem FOR\n",
    "v = 1+2+3+4+5\n",
    "print(f\"soma: {v}\")"
   ]
  },
  {
   "cell_type": "code",
   "execution_count": 14,
   "metadata": {},
   "outputs": [
    {
     "name": "stdout",
     "output_type": "stream",
     "text": [
      "soma: 15\n"
     ]
    }
   ],
   "source": [
    "# com FOR\n",
    "soma = 0\n",
    "\n",
    "for i in range(1,6):\n",
    "    soma = soma + i\n",
    "\n",
    "print(f\"soma: {soma}\")"
   ]
  },
  {
   "cell_type": "markdown",
   "metadata": {},
   "source": [
    "#### **Exercício**: Resolva o problema 1 utilizando um laço do tipo **for**."
   ]
  },
  {
   "cell_type": "markdown",
   "metadata": {},
   "source": [
    "* Conversão de temperaturas entre as escalas Fahrenheit e Celsius usando laço for."
   ]
  },
  {
   "cell_type": "code",
   "execution_count": 26,
   "metadata": {},
   "outputs": [
    {
     "name": "stdout",
     "output_type": "stream",
     "text": [
      "Fahrenheit = 0 / Celsius = -16.667\n",
      "Fahrenheit = 20 / Celsius = -5.556\n",
      "Fahrenheit = 40 / Celsius = 5.556\n",
      "Fahrenheit = 60 / Celsius = 16.667\n",
      "Fahrenheit = 80 / Celsius = 27.778\n",
      "Fahrenheit = 100 / Celsius = 38.889\n",
      "Fahrenheit = 120 / Celsius = 50.000\n",
      "Fahrenheit = 140 / Celsius = 61.111\n",
      "Fahrenheit = 160 / Celsius = 72.222\n",
      "Fahrenheit = 180 / Celsius = 83.333\n",
      "Fahrenheit = 200 / Celsius = 94.444\n",
      "Fahrenheit = 220 / Celsius = 105.556\n",
      "Fahrenheit = 240 / Celsius = 116.667\n",
      "Fahrenheit = 260 / Celsius = 127.778\n",
      "Fahrenheit = 280 / Celsius = 138.889\n",
      "Fahrenheit = 300 / Celsius = 150.000\n"
     ]
    }
   ],
   "source": [
    "for fahr in range(0,320,20):\n",
    "    celsius = 5 * (fahr -30) / 9\n",
    "\n",
    "    print(f'Fahrenheit = {fahr} / Celsius = {celsius:.3f}')"
   ]
  },
  {
   "cell_type": "markdown",
   "metadata": {},
   "source": [
    "* **Problema 5**: Considere o conjunto de dados no formato ESRI Shapefile mostrado na Tabela abaixo, que contem os limites estaduais brasileiros referentes ao ano de 2018. Faça um programa em Python que leia as feições desse conjunto de dados e escreva na tela o nome da unidade e sua área em km2.\n",
    "\n",
    "<img src=\"https://prog-geo.github.io/_images/uf-2018.png\" wight=\"500\" height=400>"
   ]
  },
  {
   "cell_type": "markdown",
   "metadata": {},
   "source": [
    "* Para solução desse problema, serão utilizados dois pacotes para linguagem Python denominados **Fiona** e **Pyproj**."
   ]
  },
  {
   "cell_type": "code",
   "execution_count": null,
   "metadata": {},
   "outputs": [],
   "source": [
    "# %pip install fiona pyproj shapely"
   ]
  },
  {
   "cell_type": "code",
   "execution_count": 5,
   "metadata": {},
   "outputs": [
    {
     "name": "stdout",
     "output_type": "stream",
     "text": [
      "SERGIPE.............: 22817.43\n",
      "MARANHÃO............: 333537.61\n",
      "ESPÍRITO SANTO......: 47190.12\n",
      "AMAZONAS............: 1589711.83\n",
      "RORAIMA.............: 226201.35\n",
      "GOIÁS...............: 341192.03\n",
      "AMAPÁ...............: 142582.70\n",
      "RIO GRANDE DO SUL...: 281815.23\n",
      "PARAÍBA.............: 58988.84\n",
      "PIAUÍ...............: 256312.07\n",
      "SÃO PAULO...........: 249216.05\n",
      "SANTA CATARINA......: 95895.66\n",
      "PERNAMBUCO..........: 101883.08\n",
      "RIO DE JANEIRO......: 44495.13\n",
      "MATO GROSSO DO SUL..: 357316.55\n",
      "MATO GROSSO.........: 904698.12\n",
      "BAHIA...............: 577567.46\n",
      "MINAS GERAIS........: 593986.45\n",
      "ALAGOAS.............: 29098.68\n",
      "CEARÁ...............: 153595.54\n",
      "RIO GRANDE DO NORTE.: 55220.69\n",
      "PARANÁ..............: 199504.27\n",
      "RONDÔNIA............: 240587.56\n",
      "DISTRITO FEDERAL....: 5792.29\n",
      "ACRE................: 170851.44\n",
      "PARÁ................: 1247640.91\n",
      "TOCANTINS...........: 279093.86\n"
     ]
    }
   ],
   "source": [
    "import fiona\n",
    "import pyproj\n",
    "\n",
    "from shapely.geometry import shape\n",
    "from shapely.ops import transform\n",
    "\n",
    "epsg_4674 = pyproj.CRS('EPSG:4674')  # SIRGAS 2000\n",
    "epsg_5880 = pyproj.CRS('EPSG:5880')  # SIRGAS 2000 / Brazil Polyconic\n",
    "\n",
    "project = pyproj.Transformer.from_crs(epsg_4674, epsg_5880, always_xy=True).transform\n",
    "\n",
    "with fiona.open(\n",
    "    \"zip+https://geoftp.ibge.gov.br/organizacao_do_territorio/malhas_territoriais/malhas_municipais/municipio_2018/Brasil/BR/br_unidades_da_federacao.zip\"\n",
    ") as ufs:\n",
    "    for uf in ufs:\n",
    "        nome = uf[\"properties\"][\"NM_ESTADO\"]\n",
    "        geom = shape(uf[\"geometry\"])\n",
    "\n",
    "        geom_policonica = transform(project, geom)\n",
    "        area = geom_policonica.area / 1e6\n",
    "\n",
    "        nome_fmt = nome.ljust(20, '.')\n",
    "\n",
    "        print(f\"{nome_fmt}: {area:.2f}\")"
   ]
  },
  {
   "cell_type": "code",
   "execution_count": null,
   "metadata": {},
   "outputs": [],
   "source": []
  }
 ],
 "metadata": {
  "kernelspec": {
   "display_name": "venv",
   "language": "python",
   "name": "python3"
  },
  "language_info": {
   "codemirror_mode": {
    "name": "ipython",
    "version": 3
   },
   "file_extension": ".py",
   "mimetype": "text/x-python",
   "name": "python",
   "nbconvert_exporter": "python",
   "pygments_lexer": "ipython3",
   "version": "3.13.0"
  }
 },
 "nbformat": 4,
 "nbformat_minor": 2
}
